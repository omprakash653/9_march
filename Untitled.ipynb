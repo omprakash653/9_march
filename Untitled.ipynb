{
 "cells": [
  {
   "cell_type": "markdown",
   "id": "d87d7bc3",
   "metadata": {},
   "source": [
    "\n",
    "# Ans1"
   ]
  },
  {
   "cell_type": "code",
   "execution_count": 1,
   "id": "59b159ce",
   "metadata": {},
   "outputs": [],
   "source": [
    "#  Probability mass and density functions are used to describe discrete and \n",
    "#     continuous probability distributions, respectively. This allows us to\n",
    "#     determine the probability of an observation being exactly equal to a target value\n",
    "#     (discrete) or within a set range around our target value (continuous).\n",
    "# pmf ex-no of student in class\n",
    "# pdf ex-heights of student in class"
   ]
  },
  {
   "cell_type": "markdown",
   "id": "83ad239c",
   "metadata": {},
   "source": [
    "# Ans2"
   ]
  },
  {
   "cell_type": "code",
   "execution_count": 2,
   "id": "ce2ba07f",
   "metadata": {},
   "outputs": [],
   "source": [
    "# A cumulative distribution function (CDF) describes the probabilities\n",
    "# of a random variable having values less than or equal to x. It is a \n",
    "# cumulative function because it sums the total likelihood up to that \n",
    "# point. Its output always ranges between 0 and 1.\n",
    "\n",
    "# CDFs have the following definition:\n",
    "\n",
    "# CDF(x) = P(X ≤ x)"
   ]
  },
  {
   "cell_type": "markdown",
   "id": "2d786376",
   "metadata": {},
   "source": [
    "# Ans3"
   ]
  },
  {
   "cell_type": "code",
   "execution_count": 3,
   "id": "7f81175f",
   "metadata": {},
   "outputs": [],
   "source": [
    "# example of normal distribution.1\n",
    "\n",
    "# 1-Heights and weights of a population: The normal distribution can be\n",
    "#     used to model the distribution of heights and weights in a population.\n",
    "\n",
    "# 2-Test scores: Test scores often follow a normal distribution, with most\n",
    "#     students scoring around the average and fewer students scoring at the extremes.\n",
    "\n",
    "# 3-Blood pressure: Blood pressure measurements for a large population tend \n",
    "    \n",
    "# to follow a normal distribution.\n",
    "\n",
    "\n",
    "# parameters-\n",
    "# 1-The mean (µ) determines the location of the center of the distribution, also known as the peak or the mode\n",
    "\n",
    "# 2-The standard deviation (σ) determines the spread or width of the distribution. A larger value of σ means \n",
    "# that the distribution is more spread out, while a smaller value of σ means that the distribution is \n",
    "# more tightly clustered around the mean."
   ]
  },
  {
   "cell_type": "markdown",
   "id": "2e8f76d1",
   "metadata": {},
   "source": [
    "# Ans4"
   ]
  },
  {
   "cell_type": "code",
   "execution_count": null,
   "id": "27581cc9",
   "metadata": {},
   "outputs": [],
   "source": [
    "# the normal distribution is an essential concept in statistics and probability \n",
    "# theory, and its properties and applications make it an indispensable tool for many scientific fields, \n",
    "# including psychology, economics, engineering, and more.\n",
    "# Real life ex- 1-Heights and weights of a population\n",
    "#                2-IQ, Blood Pressure etc."
   ]
  },
  {
   "cell_type": "markdown",
   "id": "e623a0c2",
   "metadata": {},
   "source": [
    "# Ans5"
   ]
  },
  {
   "cell_type": "code",
   "execution_count": 5,
   "id": "c4c0e314",
   "metadata": {},
   "outputs": [],
   "source": [
    "# The Bernoulli distribution is a discrete probability distribution that models \n",
    "# the outcomes of a single binary experiment, where there are\n",
    "# only two possible outcomes, usually denoted as 0 and 1.\n",
    "# difference bteween bernoulli & binomial-:\n",
    "#     The difference between the Bernoulli distribution and the binomial distribution \n",
    "#     is that the Bernoulli distribution models a single trial of a binary experiment,\n",
    "#     while the binomial distribution models the number of successes\n",
    "#     in a fixed number of independent Bernoulli trials"
   ]
  },
  {
   "cell_type": "markdown",
   "id": "1bfd3d69",
   "metadata": {},
   "source": [
    "# Ans6"
   ]
  },
  {
   "cell_type": "code",
   "execution_count": 6,
   "id": "7fb01249",
   "metadata": {},
   "outputs": [],
   "source": [
    "# The formula for calculating the z-score is:\n",
    "\n",
    "# z = (x - μ) / σ\n",
    "\n",
    "# z=(60-50)/10= 1\n",
    "# This means that the value of 60 is one standard deviation above the mean.\n",
    "\n",
    "#  z-score of 1 is 0.1587\n",
    "# Therefore, the probability that a randomly selected observation from the dataset will be\n",
    "# greater than 60 is approximately 0.1587 or 15.87%."
   ]
  },
  {
   "cell_type": "markdown",
   "id": "4b58cc98",
   "metadata": {},
   "source": [
    "# Ans7"
   ]
  },
  {
   "cell_type": "code",
   "execution_count": 9,
   "id": "c352582c",
   "metadata": {},
   "outputs": [],
   "source": [
    "# Uniform distribution is a probability distribution where all outcomes are equally\n",
    "# likely over a given range. In other words, a uniform distribution \n",
    "# implies that every value in the range has an equal chance of being selected.\n",
    "\n",
    "# For example, suppose you have a fair six-sided die. The possible outcomes \n",
    "# are {1, 2, 3, 4, 5, 6}, and each outcome has an equal probability of 1/6.\n",
    "# This is an example of a discrete uniform distribution."
   ]
  },
  {
   "cell_type": "markdown",
   "id": "778d3ba7",
   "metadata": {},
   "source": [
    "# Ans8"
   ]
  },
  {
   "cell_type": "code",
   "execution_count": 7,
   "id": "7dae6e52",
   "metadata": {},
   "outputs": [],
   "source": [
    "# The z-score, also known as the standard score, is a measure of how many\n",
    "# standard deviations an observation or data point is away from the mean of \n",
    "# the distribution. The formula for calculating the z-score is:\n",
    "\n",
    "# z = (x - μ) / σ\n",
    "# importance-:The importance of the z-score is that it allows us to compare observations \n",
    "#     or data points from different distributions, and to make inferences about the probability\n",
    "#     of observing a value in a particular distribution"
   ]
  },
  {
   "cell_type": "markdown",
   "id": "2553a0ea",
   "metadata": {},
   "source": [
    "# Ans9"
   ]
  },
  {
   "cell_type": "code",
   "execution_count": 8,
   "id": "21b7bdb3",
   "metadata": {},
   "outputs": [],
   "source": [
    "# The Central Limit Theorem (CLT) is a fundamental concept in statistics that states\n",
    "# that the distribution of sample means of a sufficiently large number of independent,\n",
    "# identically distributed random variables will be approximately normal, regardless of the underlying \n",
    "# distribution of the individual random variables.\n",
    "# significant-:\n",
    "#     The significance of the CLT is that it allows us to make inferences about the population\n",
    "#     parameters based on a sample of observations, without making any assumptions about the distribution \n",
    "#     of the population. This is particularly useful in situations where the population distribution is unknown\n",
    "#     or cannot be easily measured, as is often the case in real-world applications."
   ]
  },
  {
   "cell_type": "markdown",
   "id": "eca2bfeb",
   "metadata": {},
   "source": [
    "# Ans10"
   ]
  },
  {
   "cell_type": "code",
   "execution_count": 10,
   "id": "f1756699",
   "metadata": {},
   "outputs": [],
   "source": [
    "# assumptions are:\n",
    "\n",
    "# 1Random Sampling: The samples should be drawn randomly from the population,\n",
    "#     meaning that every individual in the population has an equal chance of being selected in the sample.\n",
    "\n",
    "# 2Independence: The samples should be independent of each other, meaning that the \n",
    "#     selection of one individual does not affect the selection of another individual.\n",
    "\n",
    "# 3Finite Variance: The population should have a finite variance. If the variance of the \n",
    "#     population is infinite, the CLT does not apply.\n",
    "\n",
    "# 4Sample Size: The sample size should be sufficiently large. There is no precise definition \n",
    "#     of \"sufficiently large,\" but a common rule of thumb is that the sample size should be at least 30."
   ]
  },
  {
   "cell_type": "code",
   "execution_count": null,
   "id": "b0e7bb57",
   "metadata": {},
   "outputs": [],
   "source": []
  }
 ],
 "metadata": {
  "kernelspec": {
   "display_name": "Python 3 (ipykernel)",
   "language": "python",
   "name": "python3"
  },
  "language_info": {
   "codemirror_mode": {
    "name": "ipython",
    "version": 3
   },
   "file_extension": ".py",
   "mimetype": "text/x-python",
   "name": "python",
   "nbconvert_exporter": "python",
   "pygments_lexer": "ipython3",
   "version": "3.11.1"
  }
 },
 "nbformat": 4,
 "nbformat_minor": 5
}
